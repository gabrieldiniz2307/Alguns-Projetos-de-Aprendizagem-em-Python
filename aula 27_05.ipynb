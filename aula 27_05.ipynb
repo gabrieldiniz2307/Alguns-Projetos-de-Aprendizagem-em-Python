{
 "cells": [
  {
   "cell_type": "code",
   "execution_count": null,
   "metadata": {},
   "outputs": [],
   "source": [
    "variaveis_importantes = coeficientes[coeficientes.abs()>0.1]\n",
    "print(variaveis_importantes)\n"
   ]
  },
  {
   "cell_type": "code",
   "execution_count": null,
   "metadata": {},
   "outputs": [],
   "source": [
    "modelo_lasso1 = LassoCV(cv=5, alphas=[0, 0.01, 0.1, 1,], random_state=42)\n",
    "modelo_lasso1.fit"
   ]
  },
  {
   "cell_type": "code",
   "execution_count": null,
   "metadata": {},
   "outputs": [],
   "source": []
  },
  {
   "cell_type": "code",
   "execution_count": null,
   "metadata": {},
   "outputs": [],
   "source": [
    "coefieciente_lasso1 = pd.Series(modelo_lasso1.coef_, index=x_treino.colomuns)\n",
    "coefieciente_lasso2 = pd.Series(modelo_lasso2.coef_, index=x_treino.colomuns)"
   ]
  },
  {
   "cell_type": "code",
   "execution_count": null,
   "metadata": {},
   "outputs": [],
   "source": [
    "variaveis_importantes_lasso = coeficiente_lasso2[coeficiente_lasso2.abs()>!=0]\n",
    "print(variaveis_importantes_lasso)\n"
   ]
  }
 ],
 "metadata": {
  "kernelspec": {
   "display_name": "Python 3",
   "language": "python",
   "name": "python3"
  },
  "language_info": {
   "name": "python",
   "version": "3.11.9"
  }
 },
 "nbformat": 4,
 "nbformat_minor": 2
}
